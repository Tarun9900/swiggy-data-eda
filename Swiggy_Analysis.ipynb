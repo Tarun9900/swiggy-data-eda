{
 "cells": [
  {
   "cell_type": "markdown",
   "id": "9cc90f81",
   "metadata": {},
   "source": [
    "# SWIGGY ANALYSIS"
   ]
  },
  {
   "cell_type": "markdown",
   "id": "aa42a8ee",
   "metadata": {},
   "source": [
    "#### Import Libraries"
   ]
  },
  {
   "cell_type": "code",
   "execution_count": 2,
   "id": "a1f7c685",
   "metadata": {},
   "outputs": [],
   "source": [
    "import pandas as pd\n",
    "import numpy as np\n",
    "import matplotlib.pyplot as plt\n",
    "import seaborn as sns "
   ]
  },
  {
   "cell_type": "markdown",
   "id": "3c1148a2",
   "metadata": {},
   "source": [
    "#### Import Raw Data"
   ]
  },
  {
   "cell_type": "code",
   "execution_count": 3,
   "id": "902d2196",
   "metadata": {},
   "outputs": [],
   "source": [
    "df=pd.read_csv('C:/Users/Tarun/Downloads/swiggy_file.csv')"
   ]
  },
  {
   "cell_type": "markdown",
   "id": "24dca953",
   "metadata": {},
   "source": [
    "#### Sample Data "
   ]
  },
  {
   "cell_type": "code",
   "execution_count": 4,
   "id": "6d9eeaa4",
   "metadata": {},
   "outputs": [
    {
     "data": {
      "text/html": [
       "<div>\n",
       "<style scoped>\n",
       "    .dataframe tbody tr th:only-of-type {\n",
       "        vertical-align: middle;\n",
       "    }\n",
       "\n",
       "    .dataframe tbody tr th {\n",
       "        vertical-align: top;\n",
       "    }\n",
       "\n",
       "    .dataframe thead th {\n",
       "        text-align: right;\n",
       "    }\n",
       "</style>\n",
       "<table border=\"1\" class=\"dataframe\">\n",
       "  <thead>\n",
       "    <tr style=\"text-align: right;\">\n",
       "      <th></th>\n",
       "      <th>Restaurant name</th>\n",
       "      <th>Cuisine</th>\n",
       "      <th>Rating</th>\n",
       "      <th>Number of Ratings</th>\n",
       "      <th>Average Price</th>\n",
       "      <th>Number of Offers</th>\n",
       "      <th>Offer Name</th>\n",
       "      <th>Area</th>\n",
       "      <th>Pure Veg</th>\n",
       "      <th>Location</th>\n",
       "    </tr>\n",
       "  </thead>\n",
       "  <tbody>\n",
       "    <tr>\n",
       "      <th>0</th>\n",
       "      <td>La Pino'Z Pizza</td>\n",
       "      <td>Pizzas, Pastas</td>\n",
       "      <td>4</td>\n",
       "      <td>10+ ratings</td>\n",
       "      <td>₹250 for two</td>\n",
       "      <td>2</td>\n",
       "      <td>FLAT DEAL\\nFLAT ₹125 OFF\\nUSE FLAT125ABOVE ₹69...</td>\n",
       "      <td>LALA LAJPAT RAI MARKET</td>\n",
       "      <td>No</td>\n",
       "      <td>Abohar</td>\n",
       "    </tr>\n",
       "    <tr>\n",
       "      <th>1</th>\n",
       "      <td>The Second Wife</td>\n",
       "      <td>Indian, North Indian</td>\n",
       "      <td>3.6</td>\n",
       "      <td>50+ ratings</td>\n",
       "      <td>₹250 for two</td>\n",
       "      <td>2</td>\n",
       "      <td>30% OFF UPTO ₹75\\nUSE TRYNEWABOVE ₹149, FLAT ₹...</td>\n",
       "      <td>Central Abohar</td>\n",
       "      <td>No</td>\n",
       "      <td>Abohar</td>\n",
       "    </tr>\n",
       "    <tr>\n",
       "      <th>2</th>\n",
       "      <td>Tasty Bites</td>\n",
       "      <td>Italian, Beverages</td>\n",
       "      <td>3.8</td>\n",
       "      <td>10+ ratings</td>\n",
       "      <td>₹200 for two</td>\n",
       "      <td>1</td>\n",
       "      <td>FLAT ₹120 OFF\\nUSE AXIS120ABOVE ₹500</td>\n",
       "      <td>Central Abohar</td>\n",
       "      <td>Yes</td>\n",
       "      <td>Abohar</td>\n",
       "    </tr>\n",
       "    <tr>\n",
       "      <th>3</th>\n",
       "      <td>Food Studio</td>\n",
       "      <td>Pizzas, Burgers</td>\n",
       "      <td>3.5</td>\n",
       "      <td>8 ratings</td>\n",
       "      <td>₹49 for two</td>\n",
       "      <td>5</td>\n",
       "      <td>50% OFF UPTO ₹100\\nUSE TRYNEWABOVE ₹129, FLAT ...</td>\n",
       "      <td>Central Abohar</td>\n",
       "      <td>Yes</td>\n",
       "      <td>Abohar</td>\n",
       "    </tr>\n",
       "    <tr>\n",
       "      <th>4</th>\n",
       "      <td>Roll Express</td>\n",
       "      <td>Fast Food, Snacks</td>\n",
       "      <td>4.3</td>\n",
       "      <td>100+ ratings</td>\n",
       "      <td>₹200 for two</td>\n",
       "      <td>2</td>\n",
       "      <td>DEAL OF DAY\\n10% OFF UPTO ₹40\\nUSE STEALDEALAB...</td>\n",
       "      <td>Circular Road</td>\n",
       "      <td>No</td>\n",
       "      <td>Abohar</td>\n",
       "    </tr>\n",
       "  </tbody>\n",
       "</table>\n",
       "</div>"
      ],
      "text/plain": [
       "   Restaurant name               Cuisine Rating Number of Ratings  \\\n",
       "0  La Pino'Z Pizza        Pizzas, Pastas      4       10+ ratings   \n",
       "1  The Second Wife  Indian, North Indian    3.6       50+ ratings   \n",
       "2      Tasty Bites    Italian, Beverages    3.8       10+ ratings   \n",
       "3      Food Studio       Pizzas, Burgers    3.5         8 ratings   \n",
       "4     Roll Express     Fast Food, Snacks    4.3      100+ ratings   \n",
       "\n",
       "  Average Price  Number of Offers  \\\n",
       "0  ₹250 for two                 2   \n",
       "1  ₹250 for two                 2   \n",
       "2  ₹200 for two                 1   \n",
       "3   ₹49 for two                 5   \n",
       "4  ₹200 for two                 2   \n",
       "\n",
       "                                          Offer Name                    Area  \\\n",
       "0  FLAT DEAL\\nFLAT ₹125 OFF\\nUSE FLAT125ABOVE ₹69...  LALA LAJPAT RAI MARKET   \n",
       "1  30% OFF UPTO ₹75\\nUSE TRYNEWABOVE ₹149, FLAT ₹...          Central Abohar   \n",
       "2               FLAT ₹120 OFF\\nUSE AXIS120ABOVE ₹500          Central Abohar   \n",
       "3  50% OFF UPTO ₹100\\nUSE TRYNEWABOVE ₹129, FLAT ...          Central Abohar   \n",
       "4  DEAL OF DAY\\n10% OFF UPTO ₹40\\nUSE STEALDEALAB...           Circular Road   \n",
       "\n",
       "  Pure Veg Location  \n",
       "0       No   Abohar  \n",
       "1       No   Abohar  \n",
       "2      Yes   Abohar  \n",
       "3      Yes   Abohar  \n",
       "4       No   Abohar  "
      ]
     },
     "execution_count": 4,
     "metadata": {},
     "output_type": "execute_result"
    }
   ],
   "source": [
    "df.head()"
   ]
  },
  {
   "cell_type": "code",
   "execution_count": 5,
   "id": "db9e6ef1",
   "metadata": {},
   "outputs": [
    {
     "data": {
      "text/html": [
       "<div>\n",
       "<style scoped>\n",
       "    .dataframe tbody tr th:only-of-type {\n",
       "        vertical-align: middle;\n",
       "    }\n",
       "\n",
       "    .dataframe tbody tr th {\n",
       "        vertical-align: top;\n",
       "    }\n",
       "\n",
       "    .dataframe thead th {\n",
       "        text-align: right;\n",
       "    }\n",
       "</style>\n",
       "<table border=\"1\" class=\"dataframe\">\n",
       "  <thead>\n",
       "    <tr style=\"text-align: right;\">\n",
       "      <th></th>\n",
       "      <th>Restaurant name</th>\n",
       "      <th>Cuisine</th>\n",
       "      <th>Rating</th>\n",
       "      <th>Number of Ratings</th>\n",
       "      <th>Average Price</th>\n",
       "      <th>Number of Offers</th>\n",
       "      <th>Offer Name</th>\n",
       "      <th>Area</th>\n",
       "      <th>Pure Veg</th>\n",
       "      <th>Location</th>\n",
       "    </tr>\n",
       "  </thead>\n",
       "  <tbody>\n",
       "    <tr>\n",
       "      <th>140652</th>\n",
       "      <td>Yummy Momo'S Cafe</td>\n",
       "      <td>Chinese, Fast Food</td>\n",
       "      <td>4.6</td>\n",
       "      <td>3 ratings</td>\n",
       "      <td>₹100 for two</td>\n",
       "      <td>3</td>\n",
       "      <td>20% OFF UPTO ₹50\\nUSE TRYNEWABOVE ₹149, FLAT ₹...</td>\n",
       "      <td>Yavatmal Locality</td>\n",
       "      <td>Yes</td>\n",
       "      <td>Yavatmal</td>\n",
       "    </tr>\n",
       "    <tr>\n",
       "      <th>140653</th>\n",
       "      <td>CAFE FIRST FLOOR</td>\n",
       "      <td>Beverages, Snacks</td>\n",
       "      <td>3.2</td>\n",
       "      <td>3 ratings</td>\n",
       "      <td>₹200 for two</td>\n",
       "      <td>2</td>\n",
       "      <td>FLAT ₹120 OFF\\nUSE AXIS120ABOVE ₹500, FLAT ₹50...</td>\n",
       "      <td>Yavatmal City</td>\n",
       "      <td>Yes</td>\n",
       "      <td>Yavatmal</td>\n",
       "    </tr>\n",
       "    <tr>\n",
       "      <th>140654</th>\n",
       "      <td>Cafe Coffee Aani Barach Kahi</td>\n",
       "      <td>Snacks</td>\n",
       "      <td>3.2</td>\n",
       "      <td>50+ ratings</td>\n",
       "      <td>₹150 for two</td>\n",
       "      <td>2</td>\n",
       "      <td>FLAT ₹120 OFF\\nUSE AXIS120ABOVE ₹500, FLAT ₹50...</td>\n",
       "      <td>Yavatmal Locality</td>\n",
       "      <td>Yes</td>\n",
       "      <td>Yavatmal</td>\n",
       "    </tr>\n",
       "    <tr>\n",
       "      <th>140655</th>\n",
       "      <td>Patil Family Restaurant</td>\n",
       "      <td>North Indian, Biryani</td>\n",
       "      <td>4.3</td>\n",
       "      <td>9 ratings</td>\n",
       "      <td>₹200 for two</td>\n",
       "      <td>2</td>\n",
       "      <td>FLAT ₹120 OFF\\nUSE AXIS120ABOVE ₹500, FLAT ₹50...</td>\n",
       "      <td>Yavatmal Locality</td>\n",
       "      <td>No</td>\n",
       "      <td>Yavatmal</td>\n",
       "    </tr>\n",
       "    <tr>\n",
       "      <th>140656</th>\n",
       "      <td>Prabhakar Mama Cha Dhaba</td>\n",
       "      <td>North Indian</td>\n",
       "      <td>--</td>\n",
       "      <td>Too Few Ratings</td>\n",
       "      <td>₹350 for two</td>\n",
       "      <td>2</td>\n",
       "      <td>FLAT ₹120 OFF\\nUSE AXIS120ABOVE ₹500, FLAT ₹50...</td>\n",
       "      <td>Yavatmal Locality</td>\n",
       "      <td>No</td>\n",
       "      <td>Yavatmal</td>\n",
       "    </tr>\n",
       "  </tbody>\n",
       "</table>\n",
       "</div>"
      ],
      "text/plain": [
       "                     Restaurant name                Cuisine Rating  \\\n",
       "140652             Yummy Momo'S Cafe     Chinese, Fast Food    4.6   \n",
       "140653              CAFE FIRST FLOOR      Beverages, Snacks    3.2   \n",
       "140654  Cafe Coffee Aani Barach Kahi                 Snacks    3.2   \n",
       "140655       Patil Family Restaurant  North Indian, Biryani    4.3   \n",
       "140656      Prabhakar Mama Cha Dhaba           North Indian     --   \n",
       "\n",
       "       Number of Ratings Average Price  Number of Offers  \\\n",
       "140652         3 ratings  ₹100 for two                 3   \n",
       "140653         3 ratings  ₹200 for two                 2   \n",
       "140654       50+ ratings  ₹150 for two                 2   \n",
       "140655         9 ratings  ₹200 for two                 2   \n",
       "140656   Too Few Ratings  ₹350 for two                 2   \n",
       "\n",
       "                                               Offer Name               Area  \\\n",
       "140652  20% OFF UPTO ₹50\\nUSE TRYNEWABOVE ₹149, FLAT ₹...  Yavatmal Locality   \n",
       "140653  FLAT ₹120 OFF\\nUSE AXIS120ABOVE ₹500, FLAT ₹50...      Yavatmal City   \n",
       "140654  FLAT ₹120 OFF\\nUSE AXIS120ABOVE ₹500, FLAT ₹50...  Yavatmal Locality   \n",
       "140655  FLAT ₹120 OFF\\nUSE AXIS120ABOVE ₹500, FLAT ₹50...  Yavatmal Locality   \n",
       "140656  FLAT ₹120 OFF\\nUSE AXIS120ABOVE ₹500, FLAT ₹50...  Yavatmal Locality   \n",
       "\n",
       "       Pure Veg  Location  \n",
       "140652      Yes  Yavatmal  \n",
       "140653      Yes  Yavatmal  \n",
       "140654      Yes  Yavatmal  \n",
       "140655       No  Yavatmal  \n",
       "140656       No  Yavatmal  "
      ]
     },
     "execution_count": 5,
     "metadata": {},
     "output_type": "execute_result"
    }
   ],
   "source": [
    "df.tail()"
   ]
  },
  {
   "cell_type": "markdown",
   "id": "7c5081ae",
   "metadata": {},
   "source": [
    "#### Size of Data "
   ]
  },
  {
   "cell_type": "code",
   "execution_count": 6,
   "id": "7db51b01",
   "metadata": {},
   "outputs": [
    {
     "name": "stdout",
     "output_type": "stream",
     "text": [
      "Size of Data:(140657, 10)\n"
     ]
    }
   ],
   "source": [
    "print(f'Size of Data:{df.shape}')"
   ]
  },
  {
   "cell_type": "markdown",
   "id": "d21b9f49",
   "metadata": {},
   "source": [
    "#### Field Info"
   ]
  },
  {
   "cell_type": "code",
   "execution_count": 7,
   "id": "3f57f743",
   "metadata": {},
   "outputs": [
    {
     "data": {
      "text/plain": [
       "Index(['Restaurant name', 'Cuisine', 'Rating', 'Number of Ratings',\n",
       "       'Average Price', 'Number of Offers', 'Offer Name', 'Area', 'Pure Veg',\n",
       "       'Location'],\n",
       "      dtype='object')"
      ]
     },
     "execution_count": 7,
     "metadata": {},
     "output_type": "execute_result"
    }
   ],
   "source": [
    "df.columns"
   ]
  },
  {
   "cell_type": "markdown",
   "id": "bd2af5ce",
   "metadata": {},
   "source": [
    "#### Data Types"
   ]
  },
  {
   "cell_type": "code",
   "execution_count": 8,
   "id": "5a5f4807",
   "metadata": {},
   "outputs": [
    {
     "data": {
      "text/plain": [
       "Restaurant name      object\n",
       "Cuisine              object\n",
       "Rating               object\n",
       "Number of Ratings    object\n",
       "Average Price        object\n",
       "Number of Offers      int64\n",
       "Offer Name           object\n",
       "Area                 object\n",
       "Pure Veg             object\n",
       "Location             object\n",
       "dtype: object"
      ]
     },
     "execution_count": 8,
     "metadata": {},
     "output_type": "execute_result"
    }
   ],
   "source": [
    "df.dtypes"
   ]
  },
  {
   "cell_type": "markdown",
   "id": "b81be64e",
   "metadata": {},
   "source": [
    "#### Data Cleaning"
   ]
  },
  {
   "cell_type": "markdown",
   "id": "ef1e08fd",
   "metadata": {},
   "source": [
    ">Rating Column Cleaning"
   ]
  },
  {
   "cell_type": "code",
   "execution_count": 9,
   "id": "0c0afc54",
   "metadata": {},
   "outputs": [
    {
     "name": "stdout",
     "output_type": "stream",
     "text": [
      "['4' '3.6' '3.8' '3.5' '4.3' '4.1' '3.9' '4.2' 'NEW' '3.2' '3.3' '3.7'\n",
      " '4.5' '--' '4.4' '5' '4.6' '4.7' '2.5' '4.8' '2.8' '3' '2.9' '3.4' '3.1'\n",
      " '2.3' '4.9' '2.7' '2.1' '2' '2.6' '2.4' '2.2' '1.5' '1.3' '1.4' '1.1'\n",
      " '1.9' '1.6' '1.8' '1.7' '1' '1.2']\n"
     ]
    }
   ],
   "source": [
    "print(df['Rating'].unique())"
   ]
  },
  {
   "cell_type": "code",
   "execution_count": 10,
   "id": "f746a225",
   "metadata": {},
   "outputs": [],
   "source": [
    "df['Rating']=pd.to_numeric(df['Rating'],errors='coerce')"
   ]
  },
  {
   "cell_type": "code",
   "execution_count": 11,
   "id": "dcef5973",
   "metadata": {},
   "outputs": [
    {
     "name": "stdout",
     "output_type": "stream",
     "text": [
      "[4.  3.6 3.8 3.5 4.3 4.1 3.9 4.2 nan 3.2 3.3 3.7 4.5 4.4 5.  4.6 4.7 2.5\n",
      " 4.8 2.8 3.  2.9 3.4 3.1 2.3 4.9 2.7 2.1 2.  2.6 2.4 2.2 1.5 1.3 1.4 1.1\n",
      " 1.9 1.6 1.8 1.7 1.  1.2]\n"
     ]
    }
   ],
   "source": [
    "print(df['Rating'].unique())\n"
   ]
  },
  {
   "cell_type": "code",
   "execution_count": 12,
   "id": "29e45d96",
   "metadata": {},
   "outputs": [
    {
     "name": "stderr",
     "output_type": "stream",
     "text": [
      "C:\\Users\\Tarun\\AppData\\Local\\Temp\\ipykernel_9040\\1666026150.py:1: FutureWarning: A value is trying to be set on a copy of a DataFrame or Series through chained assignment using an inplace method.\n",
      "The behavior will change in pandas 3.0. This inplace method will never work because the intermediate object on which we are setting values always behaves as a copy.\n",
      "\n",
      "For example, when doing 'df[col].method(value, inplace=True)', try using 'df.method({col: value}, inplace=True)' or df[col] = df[col].method(value) instead, to perform the operation inplace on the original object.\n",
      "\n",
      "\n",
      "  df['Rating'].fillna(0,inplace=True)\n"
     ]
    },
    {
     "data": {
      "text/html": [
       "<div>\n",
       "<style scoped>\n",
       "    .dataframe tbody tr th:only-of-type {\n",
       "        vertical-align: middle;\n",
       "    }\n",
       "\n",
       "    .dataframe tbody tr th {\n",
       "        vertical-align: top;\n",
       "    }\n",
       "\n",
       "    .dataframe thead th {\n",
       "        text-align: right;\n",
       "    }\n",
       "</style>\n",
       "<table border=\"1\" class=\"dataframe\">\n",
       "  <thead>\n",
       "    <tr style=\"text-align: right;\">\n",
       "      <th></th>\n",
       "      <th>Restaurant name</th>\n",
       "      <th>Cuisine</th>\n",
       "      <th>Rating</th>\n",
       "      <th>Number of Ratings</th>\n",
       "      <th>Average Price</th>\n",
       "      <th>Number of Offers</th>\n",
       "      <th>Offer Name</th>\n",
       "      <th>Area</th>\n",
       "      <th>Pure Veg</th>\n",
       "      <th>Location</th>\n",
       "    </tr>\n",
       "  </thead>\n",
       "  <tbody>\n",
       "    <tr>\n",
       "      <th>140652</th>\n",
       "      <td>Yummy Momo'S Cafe</td>\n",
       "      <td>Chinese, Fast Food</td>\n",
       "      <td>4.6</td>\n",
       "      <td>3 ratings</td>\n",
       "      <td>₹100 for two</td>\n",
       "      <td>3</td>\n",
       "      <td>20% OFF UPTO ₹50\\nUSE TRYNEWABOVE ₹149, FLAT ₹...</td>\n",
       "      <td>Yavatmal Locality</td>\n",
       "      <td>Yes</td>\n",
       "      <td>Yavatmal</td>\n",
       "    </tr>\n",
       "    <tr>\n",
       "      <th>140653</th>\n",
       "      <td>CAFE FIRST FLOOR</td>\n",
       "      <td>Beverages, Snacks</td>\n",
       "      <td>3.2</td>\n",
       "      <td>3 ratings</td>\n",
       "      <td>₹200 for two</td>\n",
       "      <td>2</td>\n",
       "      <td>FLAT ₹120 OFF\\nUSE AXIS120ABOVE ₹500, FLAT ₹50...</td>\n",
       "      <td>Yavatmal City</td>\n",
       "      <td>Yes</td>\n",
       "      <td>Yavatmal</td>\n",
       "    </tr>\n",
       "    <tr>\n",
       "      <th>140654</th>\n",
       "      <td>Cafe Coffee Aani Barach Kahi</td>\n",
       "      <td>Snacks</td>\n",
       "      <td>3.2</td>\n",
       "      <td>50+ ratings</td>\n",
       "      <td>₹150 for two</td>\n",
       "      <td>2</td>\n",
       "      <td>FLAT ₹120 OFF\\nUSE AXIS120ABOVE ₹500, FLAT ₹50...</td>\n",
       "      <td>Yavatmal Locality</td>\n",
       "      <td>Yes</td>\n",
       "      <td>Yavatmal</td>\n",
       "    </tr>\n",
       "    <tr>\n",
       "      <th>140655</th>\n",
       "      <td>Patil Family Restaurant</td>\n",
       "      <td>North Indian, Biryani</td>\n",
       "      <td>4.3</td>\n",
       "      <td>9 ratings</td>\n",
       "      <td>₹200 for two</td>\n",
       "      <td>2</td>\n",
       "      <td>FLAT ₹120 OFF\\nUSE AXIS120ABOVE ₹500, FLAT ₹50...</td>\n",
       "      <td>Yavatmal Locality</td>\n",
       "      <td>No</td>\n",
       "      <td>Yavatmal</td>\n",
       "    </tr>\n",
       "    <tr>\n",
       "      <th>140656</th>\n",
       "      <td>Prabhakar Mama Cha Dhaba</td>\n",
       "      <td>North Indian</td>\n",
       "      <td>0.0</td>\n",
       "      <td>Too Few Ratings</td>\n",
       "      <td>₹350 for two</td>\n",
       "      <td>2</td>\n",
       "      <td>FLAT ₹120 OFF\\nUSE AXIS120ABOVE ₹500, FLAT ₹50...</td>\n",
       "      <td>Yavatmal Locality</td>\n",
       "      <td>No</td>\n",
       "      <td>Yavatmal</td>\n",
       "    </tr>\n",
       "  </tbody>\n",
       "</table>\n",
       "</div>"
      ],
      "text/plain": [
       "                     Restaurant name                Cuisine  Rating  \\\n",
       "140652             Yummy Momo'S Cafe     Chinese, Fast Food     4.6   \n",
       "140653              CAFE FIRST FLOOR      Beverages, Snacks     3.2   \n",
       "140654  Cafe Coffee Aani Barach Kahi                 Snacks     3.2   \n",
       "140655       Patil Family Restaurant  North Indian, Biryani     4.3   \n",
       "140656      Prabhakar Mama Cha Dhaba           North Indian     0.0   \n",
       "\n",
       "       Number of Ratings Average Price  Number of Offers  \\\n",
       "140652         3 ratings  ₹100 for two                 3   \n",
       "140653         3 ratings  ₹200 for two                 2   \n",
       "140654       50+ ratings  ₹150 for two                 2   \n",
       "140655         9 ratings  ₹200 for two                 2   \n",
       "140656   Too Few Ratings  ₹350 for two                 2   \n",
       "\n",
       "                                               Offer Name               Area  \\\n",
       "140652  20% OFF UPTO ₹50\\nUSE TRYNEWABOVE ₹149, FLAT ₹...  Yavatmal Locality   \n",
       "140653  FLAT ₹120 OFF\\nUSE AXIS120ABOVE ₹500, FLAT ₹50...      Yavatmal City   \n",
       "140654  FLAT ₹120 OFF\\nUSE AXIS120ABOVE ₹500, FLAT ₹50...  Yavatmal Locality   \n",
       "140655  FLAT ₹120 OFF\\nUSE AXIS120ABOVE ₹500, FLAT ₹50...  Yavatmal Locality   \n",
       "140656  FLAT ₹120 OFF\\nUSE AXIS120ABOVE ₹500, FLAT ₹50...  Yavatmal Locality   \n",
       "\n",
       "       Pure Veg  Location  \n",
       "140652      Yes  Yavatmal  \n",
       "140653      Yes  Yavatmal  \n",
       "140654      Yes  Yavatmal  \n",
       "140655       No  Yavatmal  \n",
       "140656       No  Yavatmal  "
      ]
     },
     "execution_count": 12,
     "metadata": {},
     "output_type": "execute_result"
    }
   ],
   "source": [
    "df['Rating'].fillna(0,inplace=True)\n",
    "df.tail()"
   ]
  },
  {
   "cell_type": "code",
   "execution_count": 13,
   "id": "bb134f4d",
   "metadata": {},
   "outputs": [
    {
     "data": {
      "text/plain": [
       "array(['10+ ratings', '50+ ratings', '8 ratings', '100+ ratings',\n",
       "       '20+ ratings', nan, '9 ratings', '500+ ratings', 'Too Few Ratings',\n",
       "       '5K+ ratings', '1K+ ratings', '5 ratings', '3 ratings',\n",
       "       '4 ratings', '6 ratings', '7 ratings', '10K+ ratings', '2 ratings'],\n",
       "      dtype=object)"
      ]
     },
     "execution_count": 13,
     "metadata": {},
     "output_type": "execute_result"
    }
   ],
   "source": [
    "df['Number of Ratings'].unique()"
   ]
  },
  {
   "cell_type": "code",
   "execution_count": 14,
   "id": "d619de99",
   "metadata": {},
   "outputs": [
    {
     "data": {
      "text/html": [
       "<div>\n",
       "<style scoped>\n",
       "    .dataframe tbody tr th:only-of-type {\n",
       "        vertical-align: middle;\n",
       "    }\n",
       "\n",
       "    .dataframe tbody tr th {\n",
       "        vertical-align: top;\n",
       "    }\n",
       "\n",
       "    .dataframe thead th {\n",
       "        text-align: right;\n",
       "    }\n",
       "</style>\n",
       "<table border=\"1\" class=\"dataframe\">\n",
       "  <thead>\n",
       "    <tr style=\"text-align: right;\">\n",
       "      <th></th>\n",
       "      <th>Restaurant name</th>\n",
       "      <th>Cuisine</th>\n",
       "      <th>Rating</th>\n",
       "      <th>Number of Ratings</th>\n",
       "      <th>Average Price</th>\n",
       "      <th>Number of Offers</th>\n",
       "      <th>Offer Name</th>\n",
       "      <th>Area</th>\n",
       "      <th>Pure Veg</th>\n",
       "      <th>Location</th>\n",
       "    </tr>\n",
       "  </thead>\n",
       "  <tbody>\n",
       "    <tr>\n",
       "      <th>0</th>\n",
       "      <td>La Pino'Z Pizza</td>\n",
       "      <td>Pizzas, Pastas</td>\n",
       "      <td>4.0</td>\n",
       "      <td>10.0</td>\n",
       "      <td>₹250 for two</td>\n",
       "      <td>2</td>\n",
       "      <td>FLAT DEAL\\nFLAT ₹125 OFF\\nUSE FLAT125ABOVE ₹69...</td>\n",
       "      <td>LALA LAJPAT RAI MARKET</td>\n",
       "      <td>No</td>\n",
       "      <td>Abohar</td>\n",
       "    </tr>\n",
       "    <tr>\n",
       "      <th>1</th>\n",
       "      <td>The Second Wife</td>\n",
       "      <td>Indian, North Indian</td>\n",
       "      <td>3.6</td>\n",
       "      <td>50.0</td>\n",
       "      <td>₹250 for two</td>\n",
       "      <td>2</td>\n",
       "      <td>30% OFF UPTO ₹75\\nUSE TRYNEWABOVE ₹149, FLAT ₹...</td>\n",
       "      <td>Central Abohar</td>\n",
       "      <td>No</td>\n",
       "      <td>Abohar</td>\n",
       "    </tr>\n",
       "    <tr>\n",
       "      <th>2</th>\n",
       "      <td>Tasty Bites</td>\n",
       "      <td>Italian, Beverages</td>\n",
       "      <td>3.8</td>\n",
       "      <td>10.0</td>\n",
       "      <td>₹200 for two</td>\n",
       "      <td>1</td>\n",
       "      <td>FLAT ₹120 OFF\\nUSE AXIS120ABOVE ₹500</td>\n",
       "      <td>Central Abohar</td>\n",
       "      <td>Yes</td>\n",
       "      <td>Abohar</td>\n",
       "    </tr>\n",
       "    <tr>\n",
       "      <th>3</th>\n",
       "      <td>Food Studio</td>\n",
       "      <td>Pizzas, Burgers</td>\n",
       "      <td>3.5</td>\n",
       "      <td>8.0</td>\n",
       "      <td>₹49 for two</td>\n",
       "      <td>5</td>\n",
       "      <td>50% OFF UPTO ₹100\\nUSE TRYNEWABOVE ₹129, FLAT ...</td>\n",
       "      <td>Central Abohar</td>\n",
       "      <td>Yes</td>\n",
       "      <td>Abohar</td>\n",
       "    </tr>\n",
       "    <tr>\n",
       "      <th>4</th>\n",
       "      <td>Roll Express</td>\n",
       "      <td>Fast Food, Snacks</td>\n",
       "      <td>4.3</td>\n",
       "      <td>100.0</td>\n",
       "      <td>₹200 for two</td>\n",
       "      <td>2</td>\n",
       "      <td>DEAL OF DAY\\n10% OFF UPTO ₹40\\nUSE STEALDEALAB...</td>\n",
       "      <td>Circular Road</td>\n",
       "      <td>No</td>\n",
       "      <td>Abohar</td>\n",
       "    </tr>\n",
       "  </tbody>\n",
       "</table>\n",
       "</div>"
      ],
      "text/plain": [
       "   Restaurant name               Cuisine  Rating  Number of Ratings  \\\n",
       "0  La Pino'Z Pizza        Pizzas, Pastas     4.0               10.0   \n",
       "1  The Second Wife  Indian, North Indian     3.6               50.0   \n",
       "2      Tasty Bites    Italian, Beverages     3.8               10.0   \n",
       "3      Food Studio       Pizzas, Burgers     3.5                8.0   \n",
       "4     Roll Express     Fast Food, Snacks     4.3              100.0   \n",
       "\n",
       "  Average Price  Number of Offers  \\\n",
       "0  ₹250 for two                 2   \n",
       "1  ₹250 for two                 2   \n",
       "2  ₹200 for two                 1   \n",
       "3   ₹49 for two                 5   \n",
       "4  ₹200 for two                 2   \n",
       "\n",
       "                                          Offer Name                    Area  \\\n",
       "0  FLAT DEAL\\nFLAT ₹125 OFF\\nUSE FLAT125ABOVE ₹69...  LALA LAJPAT RAI MARKET   \n",
       "1  30% OFF UPTO ₹75\\nUSE TRYNEWABOVE ₹149, FLAT ₹...          Central Abohar   \n",
       "2               FLAT ₹120 OFF\\nUSE AXIS120ABOVE ₹500          Central Abohar   \n",
       "3  50% OFF UPTO ₹100\\nUSE TRYNEWABOVE ₹129, FLAT ...          Central Abohar   \n",
       "4  DEAL OF DAY\\n10% OFF UPTO ₹40\\nUSE STEALDEALAB...           Circular Road   \n",
       "\n",
       "  Pure Veg Location  \n",
       "0       No   Abohar  \n",
       "1       No   Abohar  \n",
       "2      Yes   Abohar  \n",
       "3      Yes   Abohar  \n",
       "4       No   Abohar  "
      ]
     },
     "execution_count": 14,
     "metadata": {},
     "output_type": "execute_result"
    }
   ],
   "source": [
    "df['Number of Ratings']=df['Number of Ratings'].str.replace('+',\" \").str.replace(\"ratings\",\" \").str.replace(\"K\",\"000\").str.replace(\"Too Few Ratings\",'2')\n",
    "df['Number of Ratings']=df['Number of Ratings'].str.strip()\n",
    "df['Number of Ratings']=df['Number of Ratings'].fillna(0)\n",
    "df['Number of Ratings']=df['Number of Ratings'].astype(float)\n",
    "df['Number of Ratings'].unique()\n",
    "df.head()"
   ]
  },
  {
   "cell_type": "markdown",
   "id": "30551e79",
   "metadata": {},
   "source": [
    ">Average Price Column Cleaning"
   ]
  },
  {
   "cell_type": "code",
   "execution_count": 15,
   "id": "b87eb27e",
   "metadata": {},
   "outputs": [
    {
     "data": {
      "text/html": [
       "<div>\n",
       "<style scoped>\n",
       "    .dataframe tbody tr th:only-of-type {\n",
       "        vertical-align: middle;\n",
       "    }\n",
       "\n",
       "    .dataframe tbody tr th {\n",
       "        vertical-align: top;\n",
       "    }\n",
       "\n",
       "    .dataframe thead th {\n",
       "        text-align: right;\n",
       "    }\n",
       "</style>\n",
       "<table border=\"1\" class=\"dataframe\">\n",
       "  <thead>\n",
       "    <tr style=\"text-align: right;\">\n",
       "      <th></th>\n",
       "      <th>Restaurant name</th>\n",
       "      <th>Cuisine</th>\n",
       "      <th>Rating</th>\n",
       "      <th>Number of Ratings</th>\n",
       "      <th>Average Price</th>\n",
       "      <th>Number of Offers</th>\n",
       "      <th>Offer Name</th>\n",
       "      <th>Area</th>\n",
       "      <th>Pure Veg</th>\n",
       "      <th>Location</th>\n",
       "    </tr>\n",
       "  </thead>\n",
       "  <tbody>\n",
       "    <tr>\n",
       "      <th>0</th>\n",
       "      <td>La Pino'Z Pizza</td>\n",
       "      <td>Pizzas, Pastas</td>\n",
       "      <td>4.0</td>\n",
       "      <td>10.0</td>\n",
       "      <td>250.0</td>\n",
       "      <td>2</td>\n",
       "      <td>FLAT DEAL\\nFLAT ₹125 OFF\\nUSE FLAT125ABOVE ₹69...</td>\n",
       "      <td>LALA LAJPAT RAI MARKET</td>\n",
       "      <td>No</td>\n",
       "      <td>Abohar</td>\n",
       "    </tr>\n",
       "    <tr>\n",
       "      <th>1</th>\n",
       "      <td>The Second Wife</td>\n",
       "      <td>Indian, North Indian</td>\n",
       "      <td>3.6</td>\n",
       "      <td>50.0</td>\n",
       "      <td>250.0</td>\n",
       "      <td>2</td>\n",
       "      <td>30% OFF UPTO ₹75\\nUSE TRYNEWABOVE ₹149, FLAT ₹...</td>\n",
       "      <td>Central Abohar</td>\n",
       "      <td>No</td>\n",
       "      <td>Abohar</td>\n",
       "    </tr>\n",
       "    <tr>\n",
       "      <th>2</th>\n",
       "      <td>Tasty Bites</td>\n",
       "      <td>Italian, Beverages</td>\n",
       "      <td>3.8</td>\n",
       "      <td>10.0</td>\n",
       "      <td>200.0</td>\n",
       "      <td>1</td>\n",
       "      <td>FLAT ₹120 OFF\\nUSE AXIS120ABOVE ₹500</td>\n",
       "      <td>Central Abohar</td>\n",
       "      <td>Yes</td>\n",
       "      <td>Abohar</td>\n",
       "    </tr>\n",
       "    <tr>\n",
       "      <th>3</th>\n",
       "      <td>Food Studio</td>\n",
       "      <td>Pizzas, Burgers</td>\n",
       "      <td>3.5</td>\n",
       "      <td>8.0</td>\n",
       "      <td>49.0</td>\n",
       "      <td>5</td>\n",
       "      <td>50% OFF UPTO ₹100\\nUSE TRYNEWABOVE ₹129, FLAT ...</td>\n",
       "      <td>Central Abohar</td>\n",
       "      <td>Yes</td>\n",
       "      <td>Abohar</td>\n",
       "    </tr>\n",
       "    <tr>\n",
       "      <th>4</th>\n",
       "      <td>Roll Express</td>\n",
       "      <td>Fast Food, Snacks</td>\n",
       "      <td>4.3</td>\n",
       "      <td>100.0</td>\n",
       "      <td>200.0</td>\n",
       "      <td>2</td>\n",
       "      <td>DEAL OF DAY\\n10% OFF UPTO ₹40\\nUSE STEALDEALAB...</td>\n",
       "      <td>Circular Road</td>\n",
       "      <td>No</td>\n",
       "      <td>Abohar</td>\n",
       "    </tr>\n",
       "  </tbody>\n",
       "</table>\n",
       "</div>"
      ],
      "text/plain": [
       "   Restaurant name               Cuisine  Rating  Number of Ratings  \\\n",
       "0  La Pino'Z Pizza        Pizzas, Pastas     4.0               10.0   \n",
       "1  The Second Wife  Indian, North Indian     3.6               50.0   \n",
       "2      Tasty Bites    Italian, Beverages     3.8               10.0   \n",
       "3      Food Studio       Pizzas, Burgers     3.5                8.0   \n",
       "4     Roll Express     Fast Food, Snacks     4.3              100.0   \n",
       "\n",
       "   Average Price  Number of Offers  \\\n",
       "0          250.0                 2   \n",
       "1          250.0                 2   \n",
       "2          200.0                 1   \n",
       "3           49.0                 5   \n",
       "4          200.0                 2   \n",
       "\n",
       "                                          Offer Name                    Area  \\\n",
       "0  FLAT DEAL\\nFLAT ₹125 OFF\\nUSE FLAT125ABOVE ₹69...  LALA LAJPAT RAI MARKET   \n",
       "1  30% OFF UPTO ₹75\\nUSE TRYNEWABOVE ₹149, FLAT ₹...          Central Abohar   \n",
       "2               FLAT ₹120 OFF\\nUSE AXIS120ABOVE ₹500          Central Abohar   \n",
       "3  50% OFF UPTO ₹100\\nUSE TRYNEWABOVE ₹129, FLAT ...          Central Abohar   \n",
       "4  DEAL OF DAY\\n10% OFF UPTO ₹40\\nUSE STEALDEALAB...           Circular Road   \n",
       "\n",
       "  Pure Veg Location  \n",
       "0       No   Abohar  \n",
       "1       No   Abohar  \n",
       "2      Yes   Abohar  \n",
       "3      Yes   Abohar  \n",
       "4       No   Abohar  "
      ]
     },
     "execution_count": 15,
     "metadata": {},
     "output_type": "execute_result"
    }
   ],
   "source": [
    "df['Average Price']=df['Average Price'].str.replace('₹',\" \").str.replace('for two',\" \")\n",
    "df['Average Price']=df['Average Price'].str.strip()\n",
    "df['Average Price']=df['Average Price'].astype(float)\n",
    "df['Average Price'].unique()\n",
    "df.head()\n"
   ]
  },
  {
   "cell_type": "markdown",
   "id": "bdd86832",
   "metadata": {},
   "source": [
    ">Dimension Columns Cleaning"
   ]
  },
  {
   "cell_type": "code",
   "execution_count": 16,
   "id": "0d24fca4",
   "metadata": {},
   "outputs": [],
   "source": [
    "df['Restaurant name']=df['Restaurant name'].str.title()\n",
    "df['Area']=df['Area'].str.title()\n",
    "df['Cuisine']=df['Cuisine'].str.title()\n"
   ]
  },
  {
   "cell_type": "markdown",
   "id": "7c7f1940",
   "metadata": {},
   "source": [
    "#### Cleaned Data "
   ]
  },
  {
   "cell_type": "code",
   "execution_count": 17,
   "id": "03f83614",
   "metadata": {},
   "outputs": [
    {
     "data": {
      "text/html": [
       "<div>\n",
       "<style scoped>\n",
       "    .dataframe tbody tr th:only-of-type {\n",
       "        vertical-align: middle;\n",
       "    }\n",
       "\n",
       "    .dataframe tbody tr th {\n",
       "        vertical-align: top;\n",
       "    }\n",
       "\n",
       "    .dataframe thead th {\n",
       "        text-align: right;\n",
       "    }\n",
       "</style>\n",
       "<table border=\"1\" class=\"dataframe\">\n",
       "  <thead>\n",
       "    <tr style=\"text-align: right;\">\n",
       "      <th></th>\n",
       "      <th>Restaurant name</th>\n",
       "      <th>Cuisine</th>\n",
       "      <th>Rating</th>\n",
       "      <th>Number of Ratings</th>\n",
       "      <th>Average Price</th>\n",
       "      <th>Number of Offers</th>\n",
       "      <th>Offer Name</th>\n",
       "      <th>Area</th>\n",
       "      <th>Pure Veg</th>\n",
       "      <th>Location</th>\n",
       "    </tr>\n",
       "  </thead>\n",
       "  <tbody>\n",
       "    <tr>\n",
       "      <th>0</th>\n",
       "      <td>La Pino'Z Pizza</td>\n",
       "      <td>Pizzas, Pastas</td>\n",
       "      <td>4.0</td>\n",
       "      <td>10.0</td>\n",
       "      <td>250.0</td>\n",
       "      <td>2</td>\n",
       "      <td>FLAT DEAL\\nFLAT ₹125 OFF\\nUSE FLAT125ABOVE ₹69...</td>\n",
       "      <td>Lala Lajpat Rai Market</td>\n",
       "      <td>No</td>\n",
       "      <td>Abohar</td>\n",
       "    </tr>\n",
       "    <tr>\n",
       "      <th>1</th>\n",
       "      <td>The Second Wife</td>\n",
       "      <td>Indian, North Indian</td>\n",
       "      <td>3.6</td>\n",
       "      <td>50.0</td>\n",
       "      <td>250.0</td>\n",
       "      <td>2</td>\n",
       "      <td>30% OFF UPTO ₹75\\nUSE TRYNEWABOVE ₹149, FLAT ₹...</td>\n",
       "      <td>Central Abohar</td>\n",
       "      <td>No</td>\n",
       "      <td>Abohar</td>\n",
       "    </tr>\n",
       "    <tr>\n",
       "      <th>2</th>\n",
       "      <td>Tasty Bites</td>\n",
       "      <td>Italian, Beverages</td>\n",
       "      <td>3.8</td>\n",
       "      <td>10.0</td>\n",
       "      <td>200.0</td>\n",
       "      <td>1</td>\n",
       "      <td>FLAT ₹120 OFF\\nUSE AXIS120ABOVE ₹500</td>\n",
       "      <td>Central Abohar</td>\n",
       "      <td>Yes</td>\n",
       "      <td>Abohar</td>\n",
       "    </tr>\n",
       "    <tr>\n",
       "      <th>3</th>\n",
       "      <td>Food Studio</td>\n",
       "      <td>Pizzas, Burgers</td>\n",
       "      <td>3.5</td>\n",
       "      <td>8.0</td>\n",
       "      <td>49.0</td>\n",
       "      <td>5</td>\n",
       "      <td>50% OFF UPTO ₹100\\nUSE TRYNEWABOVE ₹129, FLAT ...</td>\n",
       "      <td>Central Abohar</td>\n",
       "      <td>Yes</td>\n",
       "      <td>Abohar</td>\n",
       "    </tr>\n",
       "    <tr>\n",
       "      <th>4</th>\n",
       "      <td>Roll Express</td>\n",
       "      <td>Fast Food, Snacks</td>\n",
       "      <td>4.3</td>\n",
       "      <td>100.0</td>\n",
       "      <td>200.0</td>\n",
       "      <td>2</td>\n",
       "      <td>DEAL OF DAY\\n10% OFF UPTO ₹40\\nUSE STEALDEALAB...</td>\n",
       "      <td>Circular Road</td>\n",
       "      <td>No</td>\n",
       "      <td>Abohar</td>\n",
       "    </tr>\n",
       "  </tbody>\n",
       "</table>\n",
       "</div>"
      ],
      "text/plain": [
       "   Restaurant name               Cuisine  Rating  Number of Ratings  \\\n",
       "0  La Pino'Z Pizza        Pizzas, Pastas     4.0               10.0   \n",
       "1  The Second Wife  Indian, North Indian     3.6               50.0   \n",
       "2      Tasty Bites    Italian, Beverages     3.8               10.0   \n",
       "3      Food Studio       Pizzas, Burgers     3.5                8.0   \n",
       "4     Roll Express     Fast Food, Snacks     4.3              100.0   \n",
       "\n",
       "   Average Price  Number of Offers  \\\n",
       "0          250.0                 2   \n",
       "1          250.0                 2   \n",
       "2          200.0                 1   \n",
       "3           49.0                 5   \n",
       "4          200.0                 2   \n",
       "\n",
       "                                          Offer Name                    Area  \\\n",
       "0  FLAT DEAL\\nFLAT ₹125 OFF\\nUSE FLAT125ABOVE ₹69...  Lala Lajpat Rai Market   \n",
       "1  30% OFF UPTO ₹75\\nUSE TRYNEWABOVE ₹149, FLAT ₹...          Central Abohar   \n",
       "2               FLAT ₹120 OFF\\nUSE AXIS120ABOVE ₹500          Central Abohar   \n",
       "3  50% OFF UPTO ₹100\\nUSE TRYNEWABOVE ₹129, FLAT ...          Central Abohar   \n",
       "4  DEAL OF DAY\\n10% OFF UPTO ₹40\\nUSE STEALDEALAB...           Circular Road   \n",
       "\n",
       "  Pure Veg Location  \n",
       "0       No   Abohar  \n",
       "1       No   Abohar  \n",
       "2      Yes   Abohar  \n",
       "3      Yes   Abohar  \n",
       "4       No   Abohar  "
      ]
     },
     "execution_count": 17,
     "metadata": {},
     "output_type": "execute_result"
    }
   ],
   "source": [
    "df.head()"
   ]
  },
  {
   "cell_type": "markdown",
   "id": "e8bb864b",
   "metadata": {},
   "source": [
    "### BUSINESS REQUIREMENTS"
   ]
  },
  {
   "cell_type": "markdown",
   "id": "b87c64be",
   "metadata": {},
   "source": [
    "#### Kpi's Requirements"
   ]
  },
  {
   "cell_type": "code",
   "execution_count": 18,
   "id": "24686264",
   "metadata": {},
   "outputs": [
    {
     "name": "stdout",
     "output_type": "stream",
     "text": [
      "Total no.of Restaurants: 140657\n",
      "Average Rating: 3\n",
      "Highest Rated Restaurant: Cafe M\n",
      "Most Popular Cuisine: North Indian, Chinese\n",
      "Average Price: 270\n",
      "Average no.of Offers: 3.1878896891018575\n",
      "Area with Maximum Restaurants: Civil Lines\n"
     ]
    }
   ],
   "source": [
    "# Total No.of Restaurants\n",
    "total_no_of_Restaurants=len(df)\n",
    "\n",
    "# Average Restaurant Rating\n",
    "average_rating=df['Rating'].mean()\n",
    "\n",
    "# Highesht Rated Restaurant \n",
    "highest_rated_restaurant=df.loc[df['Rating'].idxmax(),'Restaurant name']\n",
    "\n",
    "# Most popular cuisine\n",
    "most_popular_cuisine=df['Cuisine'].value_counts().idxmax()\n",
    "\n",
    "# Average Price\n",
    "average_price=df['Average Price'].mean()\n",
    "\n",
    "# Average No.of offers \n",
    "average_no_of_offers=df['Number of Offers'].mean()\n",
    "\n",
    "#Area with maximum Restaurants\n",
    "area_with_max_res=df['Area'].value_counts().idxmax()\n",
    "\n",
    "\n",
    "print(\n",
    "    f\"Total no.of Restaurants: {total_no_of_Restaurants}\"'\\n'\n",
    "    f\"Average Rating: {average_rating:,.0f}\"'\\n'\n",
    "    f\"Highest Rated Restaurant: {highest_rated_restaurant}\"'\\n'\n",
    "    f\"Most Popular Cuisine: {most_popular_cuisine}\"'\\n'\n",
    "    f\"Average Price: {average_price:,.0f}\"'\\n'\n",
    "    f\"Average no.of Offers: {average_no_of_offers}\"'\\n'\n",
    "    f\"Area with Maximum Restaurants: {area_with_max_res}\"\n",
    ")\n",
    "\n"
   ]
  },
  {
   "cell_type": "markdown",
   "id": "47f97340",
   "metadata": {},
   "source": [
    "### CHART REQUIREMENTS"
   ]
  },
  {
   "cell_type": "markdown",
   "id": "48f3ae51",
   "metadata": {},
   "source": [
    "##### Top 10 Cuisines by Restaurant Count"
   ]
  },
  {
   "cell_type": "code",
   "execution_count": 19,
   "id": "669e63f5",
   "metadata": {},
   "outputs": [
    {
     "data": {
      "image/png": "[encoded data removed]",
      "text/plain": [
       "<Figure size 1100x600 with 1 Axes>"
      ]
     },
     "metadata": {},
     "output_type": "display_data"
    }
   ],
   "source": [
    "top10_cuisines=df.groupby('Cuisine')['Restaurant name'].count().sort_values(ascending=False).head(10)\n",
    "\n",
    "plt.figure(figsize=(11,6))\n",
    "plt.bar(top10_cuisines.index,top10_cuisines.values,alpha=0.9,color='#1b3c53')\n",
    "plt.title(\"Top 10 Cuisines by Restaurant Count\",fontsize=15)\n",
    "plt.xlabel(\"Cuisines\",fontsize=12)\n",
    "plt.ylabel(\"No.of Retaurants\",fontsize=12)\n",
    "plt.xticks(rotation=90)\n",
    "for i,v in enumerate(top10_cuisines.values):\n",
    "    plt.text(i,v,s=(v),ha='center',va='bottom')\n",
    "plt.tight_layout()\n",
    "plt.grid(True,color='#d2c1b6',alpha=0.3)\n",
    "plt.show()"
   ]
  },
  {
   "cell_type": "markdown",
   "id": "53dcbe8e",
   "metadata": {},
   "source": [
    "##### Analysis:\n",
    ">\"North Indian, Chinese\" and \"Indian\" cuisines dominate the list, each with over 6,400 restaurants, indicating the strong popularity and supply for these cuisines.\n",
    "\n",
    ">Other leading cuisines include \"Chinese,\" \"Indian, Chinese,\" and \"North Indian,\" all holding notable but lower counts between around 3,500 and 3,800 restaurants.\n",
    "\n",
    ">Bakery-related offerings (\"Bakery\" and \"Bakery, Desserts\") also appear in the top 10, although with fewer outlets, showing demand for baked goods and sweets.\n"
   ]
  },
  {
   "cell_type": "markdown",
   "id": "eb1b15fb",
   "metadata": {},
   "source": [
    "##### Pure Veg vs Non-Veg Restaurants"
   ]
  },
  {
   "cell_type": "code",
   "execution_count": 20,
   "id": "5b3e0f05",
   "metadata": {},
   "outputs": [
    {
     "data": {
      "image/png": "[encoded data removed]",
      "text/plain": [
       "<Figure size 1200x600 with 1 Axes>"
      ]
     },
     "metadata": {},
     "output_type": "display_data"
    }
   ],
   "source": [
    "veg_count=(df['Pure Veg']==\"Yes\").sum()\n",
    "non_veg_count=(df['Pure Veg']==\"No\").sum()\n",
    "x=[veg_count,non_veg_count]\n",
    "l=['Non-Veg','Veg']\n",
    "c=['#1e3e62','#ff6500']\n",
    "\n",
    "\n",
    "plt.figure(figsize=(12,6))\n",
    "plt.pie(x,startangle=90,autopct='%0.1f%%',shadow=True,labels=l,colors=c,wedgeprops={'edgecolor':'black'},textprops={'color':'#eeeeee'})\n",
    "plt.title('Pure Veg vs Non-Veg Restaurants',fontsize=15)\n",
    "plt.legend()\n",
    "plt.tight_layout()\n",
    "plt.show()\n"
   ]
  },
  {
   "cell_type": "markdown",
   "id": "a6f25166",
   "metadata": {},
   "source": [
    "##### Analysis:\n",
    ">Veg restaurants make up 57.9% of the total, representing the majority of dining establishments..\n",
    "\n",
    ">Non-Veg restaurants constitute 42.1%, which is a significant minority but still notably less than Veg outlets.demand.\n",
    "\n",
    ">The difference highlights a market with a greater supply of vegetarian options, reflecting a strong vegetarian demand or cultural tendency toward vegetarian food.\n",
    "\n",
    "Conclusion:\n",
    "Vegetarian restaurants outnumber non-vegetarian ones, showing that pure veg establishments dominate the market. This suggests a preference for vegetarian cuisine among consumers or a strategic focus by restaurant owners on the vegetarian segment.\n"
   ]
  },
  {
   "cell_type": "markdown",
   "id": "5856d15a",
   "metadata": {},
   "source": [
    "#### Top 5 Areas with Most Restaurants"
   ]
  },
  {
   "cell_type": "code",
   "execution_count": 21,
   "id": "87b04aaa",
   "metadata": {},
   "outputs": [
    {
     "data": {
      "image/png": "[encoded data removed]",
      "text/plain": [
       "<Figure size 1000x600 with 1 Axes>"
      ]
     },
     "metadata": {},
     "output_type": "display_data"
    }
   ],
   "source": [
    "top5_areas=df.groupby('Area')['Restaurant name'].count().sort_values(ascending=False).head(5)\n",
    "\n",
    "plt.figure(figsize=(10,6))\n",
    "plt.barh(top5_areas.index,top5_areas.values,color='#dcd0ab')\n",
    "plt.title(\"Top 5 Areas with Most Restaurants\",fontsize=15)\n",
    "plt.xlabel(\"No.of Restaruants\",fontsize=12)\n",
    "plt.ylabel(\"Areas\",fontsize=12)\n",
    "plt.tight_layout()\n",
    "plt.grid(True,color='grey',alpha=0.3)\n",
    "plt.show()"
   ]
  },
  {
   "cell_type": "markdown",
   "id": "aad99126",
   "metadata": {},
   "source": [
    "##### Analysis:\n",
    ">Civil Lines is a clear leader, hosting almost 2,000 restaurants—more than double any of the other listed areas.\n",
    "\n",
    ">The other four areas (Model Town, Kankarbagh, Virar, Madhapur) each have between 650 and 800 restaurants, showing a relatively close competition among them.\n",
    "\n",
    ">The pronounced gap between Civil Lines and the others indicates its role as a major food hub compared to its peers.\n",
    "\n",
    "Conclusion:\n",
    "Civil Lines stands out as the primary restaurant concentration zone among the top five areas, suggesting it is a highly attractive location for restaurant business. The other four areas maintain moderate but competitive restaurant counts, making them also important, though less dominant, culinary regions.\n"
   ]
  },
  {
   "cell_type": "markdown",
   "id": "f207b49e",
   "metadata": {},
   "source": [
    "#### Distribution of Restaurant Ratings"
   ]
  },
  {
   "cell_type": "code",
   "execution_count": 22,
   "id": "f2bfa08f",
   "metadata": {},
   "outputs": [
    {
     "data": {
      "image/png": "[encoded data removed]",
      "text/plain": [
       "<Figure size 1000x600 with 1 Axes>"
      ]
     },
     "metadata": {},
     "output_type": "display_data"
    }
   ],
   "source": [
    "plt.figure(figsize=(10,6))\n",
    "plt.hist(df['Rating'],bins=10,density=True,label='Frequency Distribution',cumulative=True,rwidth=0.9,alpha=0.8,edgecolor='black',color='skyblue')\n",
    "plt.title('Distribution of Restaurant Ratings',fontsize=15)\n",
    "plt.xlabel('value',fontsize=12)\n",
    "plt.ylabel('Frequency',fontsize=12)\n",
    "plt.tight_layout()\n",
    "plt.grid(True,alpha=0.5)\n",
    "plt.show()"
   ]
  },
  {
   "cell_type": "markdown",
   "id": "3a5a5f12",
   "metadata": {},
   "source": [
    "##### Analysis:\n",
    ">Lower rating values (0 to 3) occur at much lower frequencies, whereas higher ratings (4 and above) become progressively more common.\n",
    "\n",
    ">There is a steep increase in frequency as the rating value moves from 4 to 5, with the highest frequency at the 5-star rating.\n",
    "\n",
    ">This skew toward higher ratings suggests that most restaurants achieve positive reviews from customers, with only a minority receiving poor ratings.\n",
    "\n"
   ]
  },
  {
   "cell_type": "markdown",
   "id": "06643649",
   "metadata": {},
   "source": [
    "####  Top 15 Rating Areas "
   ]
  },
  {
   "cell_type": "code",
   "execution_count": 23,
   "id": "c6ce71ef",
   "metadata": {},
   "outputs": [
    {
     "data": {
      "image/png": "[encoded data removed]",
      "text/plain": [
       "<Figure size 1200x600 with 1 Axes>"
      ]
     },
     "metadata": {},
     "output_type": "display_data"
    }
   ],
   "source": [
    "average_rating_by_Top15=df.groupby('Area')['Rating'].count().sort_values(ascending=False).head(15)\n",
    "\n",
    "plt.figure(figsize=(12,6))\n",
    "plt.plot(average_rating_by_Top15.index,average_rating_by_Top15.values,linestyle='-',marker='o',color='g')\n",
    "plt.title('Top 15 Rating Areas ',fontsize=15)\n",
    "plt.xticks(rotation=90)\n",
    "for i,v in zip(average_rating_by_Top15.index,average_rating_by_Top15.values):\n",
    "    plt.text(i,v,s=f\"{v:,.0f}\",ha='center',va='bottom')\n",
    "plt.xlabel('Area',fontsize=12)\n",
    "plt.ylabel('Ratings',fontsize=12)\n",
    "plt.tight_layout()\n",
    "plt.show()"
   ]
  },
  {
   "cell_type": "markdown",
   "id": "47702c74",
   "metadata": {},
   "source": [
    "##### Analysis:\n",
    ">Civil Lines stands out as the dominant area, receiving 2,006 ratings—over twice the amount of any other area.\n",
    "\n",
    ">The next most rated areas (Model Town, Kankarbagh, Virar, Madhapur) maintain a fairly similar range, between about 676 and 792 ratings.\n",
    "\n",
    ">The remaining areas receive progressively fewer ratings, with the lowest (Govenmopet) at 437.\n",
    "\n",
    ">This sharp decline after Civil Lines highlights that ratings are heavily concentrated in one area, while others are relatively balanced in comparison.\n",
    "\n"
   ]
  },
  {
   "cell_type": "markdown",
   "id": "3f85524e",
   "metadata": {},
   "source": [
    "#### Top10 Locations with Minimum offers"
   ]
  },
  {
   "cell_type": "code",
   "execution_count": 25,
   "id": "46d9ebed",
   "metadata": {},
   "outputs": [
    {
     "data": {
      "image/png": "[encoded data removed]",
      "text/plain": [
       "<Figure size 1000x600 with 1 Axes>"
      ]
     },
     "metadata": {},
     "output_type": "display_data"
    }
   ],
   "source": [
    "top10_locations=df.groupby('Location')['Number of Offers'].sum().sort_values(ascending=True).head(10)\n",
    "s=[i for i in top10_locations.sort_values(ascending=False)]\n",
    "\n",
    "plt.figure(figsize=(10,6))\n",
    "plt.bar(top10_locations.index,top10_locations.values,color='#31326f',alpha=0.9)\n",
    "plt.title('Top10 Locations with Minimum offers')\n",
    "plt.xlabel('Location')\n",
    "plt.ylabel('No.of offers')\n",
    "plt.xticks(rotation=-90)\n",
    "plt.tight_layout()\n",
    "plt.grid(True,alpha=0.4)\n",
    "plt.show()"
   ]
  },
  {
   "cell_type": "markdown",
   "id": "2ea6acf9",
   "metadata": {},
   "source": [
    "##### Analysis:\n",
    ">Kullu has zero offers, making it the location with the least promotional activity.\n",
    "\n",
    ">Kothagudem and Hampi each have just one offer, followed by Manali with two, and several other locations (such as Nabha, Mukerian, Jaljar, Srivilliputhur) clustered with three offers.\n",
    "\n",
    ">Mount Abu and Rangia top this group with four and five offers, respectively—still very low compared to typical urban areas.\n",
    "\n",
    ">The overall range of minimum offers is tightly grouped between 0 and 5, indicating a general lack of special deals across these locations.\n",
    "\n"
   ]
  }
 ],
 "metadata": {
  "kernelspec": {
   "display_name": "Python 3",
   "language": "python",
   "name": "python3"
  },
  "language_info": {
   "codemirror_mode": {
    "name": "ipython",
    "version": 3
   },
   "file_extension": ".py",
   "mimetype": "text/x-python",
   "name": "python",
   "nbconvert_exporter": "python",
   "pygments_lexer": "ipython3",
   "version": "3.13.2"
  }
 },
 "nbformat": 4,
 "nbformat_minor": 5
}
